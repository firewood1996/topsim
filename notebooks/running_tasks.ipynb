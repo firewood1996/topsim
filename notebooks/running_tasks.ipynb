{
 "cells": [
  {
   "cell_type": "code",
   "execution_count": 1,
   "metadata": {
    "pycharm": {
     "is_executing": false
    }
   },
   "outputs": [
    {
     "ename": "ModuleNotFoundError",
     "evalue": "No module named 'algorithms'",
     "output_type": "error",
     "traceback": [
      "\u001b[0;31m---------------------------------------------------------------------------\u001b[0m",
      "\u001b[0;31mModuleNotFoundError\u001b[0m                       Traceback (most recent call last)",
      "\u001b[0;32m<ipython-input-1-d44877f6d168>\u001b[0m in \u001b[0;36m<module>\u001b[0;34m\u001b[0m\n\u001b[1;32m      1\u001b[0m \u001b[0;32mimport\u001b[0m \u001b[0msys\u001b[0m\u001b[0;34m\u001b[0m\u001b[0;34m\u001b[0m\u001b[0m\n\u001b[1;32m      2\u001b[0m \u001b[0;32mimport\u001b[0m \u001b[0mos\u001b[0m\u001b[0;34m\u001b[0m\u001b[0;34m\u001b[0m\u001b[0m\n\u001b[0;32m----> 3\u001b[0;31m \u001b[0;32mfrom\u001b[0m \u001b[0malgorithms\u001b[0m\u001b[0;34m.\u001b[0m\u001b[0mscheduling\u001b[0m \u001b[0;32mimport\u001b[0m \u001b[0mFifoAlgorithm\u001b[0m\u001b[0;34m\u001b[0m\u001b[0;34m\u001b[0m\u001b[0m\n\u001b[0m\u001b[1;32m      4\u001b[0m \u001b[0;32mfrom\u001b[0m \u001b[0mcore\u001b[0m\u001b[0;34m.\u001b[0m\u001b[0msimulation\u001b[0m \u001b[0;32mimport\u001b[0m \u001b[0mSimulation\u001b[0m\u001b[0;34m\u001b[0m\u001b[0;34m\u001b[0m\u001b[0m\n\u001b[1;32m      5\u001b[0m \u001b[0;32mimport\u001b[0m \u001b[0mconfig\u001b[0m\u001b[0;34m.\u001b[0m\u001b[0mdata\u001b[0m \u001b[0;32mas\u001b[0m \u001b[0mtest_data\u001b[0m\u001b[0;34m\u001b[0m\u001b[0;34m\u001b[0m\u001b[0m\n",
      "\u001b[0;31mModuleNotFoundError\u001b[0m: No module named 'algorithms'"
     ]
    }
   ],
   "source": [
    "import sys\n",
    "import os\n",
    "from algorithms.scheduling import FifoAlgorithm\n",
    "from core.simulation import Simulation\n",
    "import config.data as test_data "
   ]
  },
  {
   "cell_type": "code",
   "execution_count": 1,
   "metadata": {},
   "outputs": [
    {
     "ename": "NameError",
     "evalue": "name 'os' is not defined",
     "output_type": "error",
     "traceback": [
      "\u001b[0;31m---------------------------------------------------------------------------\u001b[0m",
      "\u001b[0;31mNameError\u001b[0m                                 Traceback (most recent call last)",
      "\u001b[0;32m<ipython-input-1-a7f6c816a597>\u001b[0m in \u001b[0;36m<module>\u001b[0;34m\u001b[0m\n\u001b[0;32m----> 1\u001b[0;31m \u001b[0mos\u001b[0m\u001b[0;34m.\u001b[0m\u001b[0mchdir\u001b[0m\u001b[0;34m(\u001b[0m\u001b[0;34m'..'\u001b[0m\u001b[0;34m)\u001b[0m\u001b[0;34m\u001b[0m\u001b[0;34m\u001b[0m\u001b[0m\n\u001b[0m\u001b[1;32m      2\u001b[0m \u001b[0;31m# Confirm we are in the topsim root directory - config.data has path maps relative to this\u001b[0m\u001b[0;34m\u001b[0m\u001b[0;34m\u001b[0m\u001b[0;34m\u001b[0m\u001b[0m\n\u001b[1;32m      3\u001b[0m \u001b[0mos\u001b[0m\u001b[0;34m.\u001b[0m\u001b[0mgetcwd\u001b[0m\u001b[0;34m(\u001b[0m\u001b[0;34m)\u001b[0m\u001b[0;34m\u001b[0m\u001b[0;34m\u001b[0m\u001b[0m\n",
      "\u001b[0;31mNameError\u001b[0m: name 'os' is not defined"
     ]
    }
   ],
   "source": [
    "os.chdir('..')\n",
    "# Confirm we are in the topsim root directory - config.data has path maps relative to this \n",
    "os.getcwd()"
   ]
  },
  {
   "cell_type": "code",
   "execution_count": null,
   "metadata": {
    "pycharm": {
     "is_executing": false
    }
   },
   "outputs": [],
   "source": [
    "\n"
   ]
  },
  {
   "cell_type": "code",
   "execution_count": null,
   "metadata": {
    "pycharm": {
     "is_executing": false
    }
   },
   "outputs": [],
   "source": [
    "\n",
    "import simpy\n",
    "import simpy.rt\n",
    "import time\n",
    "import os\n",
    "workflow_file = None\n",
    "event_file = 'sim.trace'\n",
    "planning_algorithm = 'heft'\n",
    "env = simpy.RealtimeEnvironment(factor=0.5, strict=False)\n",
    "tmax = 36  # for starters, we will define telescope configuration as simply number of arrays that exist\n",
    "salgorithm = FifoAlgorithm()\n",
    "vis = False\n",
    "\n",
    "simulation = Simulation(\n",
    "    env,\n",
    "    test_data.telescope_config,\n",
    "    tmax,\n",
    "    test_data.machine_config,\n",
    "    salgorithm,\n",
    "    'heft',\n",
    "    event_file,\n",
    "    vis\n",
    ")"
   ]
  },
  {
   "cell_type": "code",
   "execution_count": null,
   "metadata": {},
   "outputs": [],
   "source": [
    "import time\n",
    "import simpy\n",
    "\n",
    "# Setup bokeh imports\n",
    "from bokeh.application import Application\n",
    "from bokeh.application.handlers.function import FunctionHandler\n",
    "from bokeh.models import LinearColorMapper\n",
    "from bokeh.models.widgets import Button, DataTable, TableColumn\n",
    "from bokeh.server.server import Server\n",
    "from bokeh.layouts import layout, row\n",
    "from bokeh.models import ColumnDataSource\n",
    "from bokeh.plotting import figure\n",
    "from bokeh.io import show, output_notebook\n",
    "output_notebook()\n",
    "import logging\n",
    "logger = logging.getLogger(__name__)\n",
    "events = []\n",
    "not_started = True\n",
    "start = False\n",
    "\n",
    "def make_document(doc):\n",
    "    # source = ColumnDataSource({'x': [], 'y': [], 'color': []})\n",
    "    # x = []\n",
    "    # y = []\n",
    "\n",
    "    colors = [\"#75968f\", \"#a5bab7\", \"#c9d9d3\", \"#e2e2e2\", \"#dfccce\", \"#ddb7b1\", \"#cc7878\", \"#933b41\", \"#550b1d\"]\n",
    "    mapper = LinearColorMapper(palette=colors, low=0, high=1)\n",
    "    button = Button(label=\"Start\", button_type=\"success\")\n",
    "    # create three plots\n",
    "\n",
    "    plot = {\n",
    "        'time': [env.now],\n",
    "        'running': [len(simulation.cluster.running_tasks)],\n",
    "        'finished': [len(simulation.cluster.finished_tasks)]\n",
    "    }\n",
    "\n",
    "    plotdata = ColumnDataSource(plot)\n",
    "\n",
    "    p = figure(plot_width=400, plot_height=400)\n",
    "    p.line(x='time', y='running', legend_label='Running tasks', alpha=0.2, line_width=3, color='navy', source=plotdata)\n",
    "    p.line(x='time', y='finished', legend_label='Finished tasks', alpha=0.8, line_width=2, color='orange', source=plotdata)\n",
    "    p.xaxis.axis_label = 'Time'\n",
    "    p.yaxis.axis_label = 'Tasks'\n",
    "\n",
    "    def update_plot():\n",
    "        if env:\n",
    "            updata = {\n",
    "                'time': [env.now],\n",
    "                'running': [len(simulation.cluster.running_tasks)],\n",
    "                'finished': [len(simulation.cluster.finished_tasks)]\n",
    "            }\n",
    "            plotdata.stream(updata)\n",
    "\n",
    "    \"\"\"\n",
    "    SETUP TABLE \n",
    "    \"\"\"\n",
    "    columns = [\n",
    "        TableColumn(field=\"name\", title=\"Name\"),\n",
    "        TableColumn(field=\"start\", title=\"Start Time\"),\n",
    "        TableColumn(field=\"demand\", title=\"No. Antennas\"),\n",
    "        TableColumn(field=\"duration\", title=\"Observation Length\"),\n",
    "        TableColumn(field=\"running\", title=\"Running Status\")\n",
    "    ]\n",
    "\n",
    "    sourcedata = dict(name=[], start=[], duration=[], demand=[], running=[])\n",
    "    tablesource = ColumnDataSource(data=sourcedata)\n",
    "    for observation in simulation.telescope.observations:\n",
    "        sourcedata['name'].append(observation.name)\n",
    "        sourcedata['start'].append(observation.start)\n",
    "        sourcedata['duration'].append(observation.duration)\n",
    "        sourcedata['demand'].append(observation.demand)\n",
    "        sourcedata['running'].append(observation.status)\n",
    "    data_table = DataTable(source=tablesource, columns=columns, width=600, height=280)\n",
    "\n",
    "    def update_table():\n",
    "        if env:\n",
    "            for i, observation in enumerate(simulation.telescope.observations):\n",
    "                dictionary = {\"running\": [(i, observation.status)]}\n",
    "                tablesource.patch(dictionary)\n",
    "\n",
    "    doc.add_periodic_callback(update_plot, 500)\n",
    "    doc.add_periodic_callback(update_table, 500)\n",
    "#     button.on_click(update_start)\n",
    "\n",
    "    # fig.xgrid.grid_line_color = None\n",
    "    # fig.x_range.start = 0\n",
    "    # fig.x_range.end = 350\n",
    "    # fig.legend.orientation = \"horizontal\"\n",
    "    # fig.legend.location = \"top_center\"\n",
    "\n",
    "    doc.title = \"TopSim Dashboard\"\n",
    "    doc.add_root(row(p, data_table))\n",
    "    return doc"
   ]
  },
  {
   "cell_type": "code",
   "execution_count": null,
   "metadata": {
    "pycharm": {
     "is_executing": false
    },
    "scrolled": true
   },
   "outputs": [],
   "source": [
    "# logger.debug('Opening Bokeh application on http://localhost:5071/')\n",
    "show(make_document)"
   ]
  },
  {
   "cell_type": "code",
   "execution_count": null,
   "metadata": {
    "pycharm": {
     "is_executing": false
    }
   },
   "outputs": [],
   "source": [
    "import threading\n",
    "\n",
    "thread = threading.Thread(target=simulation.start, args=(-1,))\n",
    "thread.start()"
   ]
  },
  {
   "cell_type": "code",
   "execution_count": null,
   "metadata": {
    "pycharm": {
     "is_executing": false
    }
   },
   "outputs": [],
   "source": []
  },
  {
   "cell_type": "code",
   "execution_count": null,
   "metadata": {
    "pycharm": {
     "is_executing": false
    }
   },
   "outputs": [],
   "source": [
    "env.now"
   ]
  },
  {
   "cell_type": "code",
   "execution_count": null,
   "metadata": {
    "pycharm": {
     "is_executing": false
    }
   },
   "outputs": [],
   "source": []
  }
 ],
 "metadata": {
  "kernelspec": {
   "display_name": "Python 3",
   "language": "python",
   "name": "python3"
  },
  "language_info": {
   "codemirror_mode": {
    "name": "ipython",
    "version": 3
   },
   "file_extension": ".py",
   "mimetype": "text/x-python",
   "name": "python",
   "nbconvert_exporter": "python",
   "pygments_lexer": "ipython3",
   "version": "3.7.3"
  },
  "pycharm": {
   "stem_cell": {
    "cell_type": "raw",
    "metadata": {
     "collapsed": false
    },
    "source": []
   }
  }
 },
 "nbformat": 4,
 "nbformat_minor": 2
}
