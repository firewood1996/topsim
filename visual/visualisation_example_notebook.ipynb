{
 "cells": [
  {
   "cell_type": "code",
   "execution_count": 8,
   "metadata": {},
   "outputs": [],
   "source": [
    "import sys\n",
    "import os\n",
    "os.chdir('/Users/rwb/github/topsim')\n",
    "sys.path.insert(0, '/Users/rwb/github/topsim')\n",
    "sys.path.insert(0, '/Users/rwb/github/shadow/')\n",
    "sys.path.append('..')\n",
    "from algorithms.scheduling import FifoAlgorithm\n",
    "from core.simulation import Simulation\n",
    "import test_data"
   ]
  },
  {
   "cell_type": "code",
   "execution_count": 35,
   "metadata": {},
   "outputs": [],
   "source": [
    "import test_data"
   ]
  },
  {
   "cell_type": "code",
   "execution_count": 9,
   "metadata": {},
   "outputs": [
    {
     "data": {
      "text/plain": [
       "'test/data/system_config.json'"
      ]
     },
     "execution_count": 9,
     "metadata": {},
     "output_type": "execute_result"
    }
   ],
   "source": [
    "test_data.machine_config"
   ]
  },
  {
   "cell_type": "code",
   "execution_count": null,
   "metadata": {},
   "outputs": [],
   "source": []
  },
  {
   "cell_type": "code",
   "execution_count": 10,
   "metadata": {},
   "outputs": [],
   "source": [
    "import simpy\n",
    "import time\n",
    "import os\n",
    "workflow_file = None\n",
    "event_file = 'sim.trace'\n",
    "planning_algorithm = 'heft'\n",
    "env = simpy.Environment()\n",
    "tmax = 36  # for starters, we will define telescope configuration as simply number of arrays that exist\n",
    "salgorithm = FifoAlgorithm()\n",
    "vis = False\n",
    "\n",
    "simulation = Simulation(env,\n",
    "                       test_data.telescope_config,\n",
    "                        tmax,\n",
    "                        test_data.machine_config,\n",
    "                        salgorithm,\n",
    "                        'heft',\n",
    "                        event_file,\n",
    "                        vis)\n",
    "\n",
    "events = []\n",
    "not_started = True\n",
    "start = False\n"
   ]
  },
  {
   "cell_type": "code",
   "execution_count": 31,
   "metadata": {},
   "outputs": [
    {
     "name": "stdout",
     "output_type": "stream",
     "text": [
      "test/data/daligue_pipeline_test_sys.json\n"
     ]
    }
   ],
   "source": [
    "print(test_data.machine_config)"
   ]
  },
  {
   "cell_type": "code",
   "execution_count": null,
   "metadata": {},
   "outputs": [],
   "source": []
  },
  {
   "cell_type": "code",
   "execution_count": 5,
   "metadata": {},
   "outputs": [
    {
     "ename": "AttributeError",
     "evalue": "module 'os' has no attribute 'setcwd'",
     "output_type": "error",
     "traceback": [
      "\u001b[0;31m---------------------------------------------------------------------------\u001b[0m",
      "\u001b[0;31mAttributeError\u001b[0m                            Traceback (most recent call last)",
      "\u001b[0;32m<ipython-input-5-7103fb05b50f>\u001b[0m in \u001b[0;36m<module>\u001b[0;34m\u001b[0m\n\u001b[0;32m----> 1\u001b[0;31m \u001b[0mos\u001b[0m\u001b[0;34m.\u001b[0m\u001b[0msetcwd\u001b[0m\u001b[0;34m(\u001b[0m\u001b[0;34m)\u001b[0m\u001b[0;34m\u001b[0m\u001b[0;34m\u001b[0m\u001b[0m\n\u001b[0m",
      "\u001b[0;31mAttributeError\u001b[0m: module 'os' has no attribute 'setcwd'"
     ]
    }
   ],
   "source": [
    "os.setcwd()"
   ]
  },
  {
   "cell_type": "code",
   "execution_count": null,
   "metadata": {},
   "outputs": [],
   "source": []
  },
  {
   "cell_type": "code",
   "execution_count": null,
   "metadata": {},
   "outputs": [],
   "source": []
  },
  {
   "cell_type": "code",
   "execution_count": null,
   "metadata": {},
   "outputs": [],
   "source": []
  },
  {
   "cell_type": "code",
   "execution_count": null,
   "metadata": {},
   "outputs": [],
   "source": []
  },
  {
   "cell_type": "code",
   "execution_count": null,
   "metadata": {},
   "outputs": [],
   "source": []
  },
  {
   "cell_type": "code",
   "execution_count": null,
   "metadata": {},
   "outputs": [],
   "source": []
  },
  {
   "cell_type": "code",
   "execution_count": 11,
   "metadata": {},
   "outputs": [],
   "source": [
    "import time\n",
    "import simpy\n",
    "\n",
    "\"\"\"\n",
    "Use 'bokeh' python library to visualise the current state of the system\n",
    "\"\"\"\n",
    "from bokeh.server.server import Server\n",
    "from bokeh.application import Application\n",
    "from bokeh.application.handlers.function import FunctionHandler\n",
    "from bokeh.plotting import figure, ColumnDataSource\n",
    "import json\n",
    "import numpy as np\n",
    "import pandas as pd\n",
    "from bokeh.driving import count\n",
    "from bokeh.layouts import column, gridplot, row\n",
    "from bokeh.models import ColumnDataSource, Select, Slider\n",
    "from bokeh.plotting import curdoc, figure\n",
    "from bokeh.layouts import column\n",
    "from bokeh.models import ColumnDataSource, Slider\n",
    "from bokeh.models import BasicTicker, ColorBar, ColumnDataSource, LinearColorMapper, PrintfTickFormatter\n",
    "from bokeh.plotting import figure\n",
    "from bokeh.models.widgets import Button, DataTable, TableColumn\n",
    "from bokeh.server.server import Server\n",
    "from bokeh.themes import Theme\n",
    "from threading import Thread\n",
    "from bokeh.colors import color\n",
    "from bokeh.io import curdoc\n",
    "from bokeh.layouts import column, row, layout\n",
    "from bokeh.models import ColumnDataSource, PreText, Select\n",
    "from bokeh.plotting import figure\n",
    "from bokeh.palettes import Spectral6\n",
    "from bokeh.transform import factor_cmap\n",
    "from bokeh.sampledata.sea_surface_temperature import sea_surface_temperature\n",
    "from flask import Flask, render_template\n",
    "from bokeh.embed import server_document\n",
    "from tornado.ioloop import IOLoop\n",
    "from bokeh.transform import transform\n",
    "import logging\n",
    "logger = logging.getLogger(__name__)\n"
   ]
  },
  {
   "cell_type": "code",
   "execution_count": 12,
   "metadata": {},
   "outputs": [],
   "source": [
    "def make_document(doc):\n",
    "    # source = ColumnDataSource({'x': [], 'y': [], 'color': []})\n",
    "    # x = []\n",
    "    # y = []\n",
    "\n",
    "    colors = [\"#75968f\", \"#a5bab7\", \"#c9d9d3\", \"#e2e2e2\", \"#dfccce\", \"#ddb7b1\", \"#cc7878\", \"#933b41\", \"#550b1d\"]\n",
    "    mapper = LinearColorMapper(palette=colors, low=0, high=1)\n",
    "    button = Button(label=\"Start\", button_type=\"success\")\n",
    "    # create three plots\n",
    "\n",
    "    plot = {\n",
    "        'time': [env.now],\n",
    "        'running': [len(simulation.cluster.running_tasks)],\n",
    "        'finished': [len(simulation.cluster.finished_tasks)]\n",
    "    }\n",
    "\n",
    "    plotdata = ColumnDataSource(plot)\n",
    "\n",
    "    def update_start():\n",
    "        if not start:\n",
    "            start = True\n",
    "\n",
    "    p = figure(plot_width=400, plot_height=400)\n",
    "    p.line(x='time', y='running', legend_label='Running tasks', alpha=0.2, line_width=3, color='navy', source=plotdata)\n",
    "    p.line(x='time', y='finished', legend_label='Finished tasks', alpha=0.8, line_width=2, color='orange', source=plotdata)\n",
    "    p.xaxis.axis_label = 'Time'\n",
    "    p.yaxis.axis_label = 'Tasks'\n",
    "\n",
    "    def update_plot():\n",
    "        if env:\n",
    "            updata = {\n",
    "                'time': [env.now],\n",
    "                'running': [len(simulation.cluster.running_tasks)],\n",
    "                'finished': [len(simulation.cluster.finished_tasks)]\n",
    "            }\n",
    "            plotdata.stream(updata)\n",
    "\n",
    "    \"\"\"\n",
    "    SETUP TABLE \n",
    "    \"\"\"\n",
    "    columns = [\n",
    "        TableColumn(field=\"name\", title=\"Name\"),\n",
    "        TableColumn(field=\"start\", title=\"Start Time\"),\n",
    "        TableColumn(field=\"demand\", title=\"No. Antennas\"),\n",
    "        TableColumn(field=\"duration\", title=\"Observation Length\"),\n",
    "        TableColumn(field=\"running\", title=\"Running Status\")\n",
    "    ]\n",
    "\n",
    "    sourcedata = dict(name=[], start=[], duration=[], demand=[], running=[])\n",
    "    tablesource = ColumnDataSource(data=sourcedata)\n",
    "    for observation in simulation.telescope.observations:\n",
    "        sourcedata['name'].append(observation.name)\n",
    "        sourcedata['start'].append(observation.start)\n",
    "        sourcedata['duration'].append(observation.duration)\n",
    "        sourcedata['demand'].append(observation.demand)\n",
    "        sourcedata['running'].append(observation.status)\n",
    "    data_table = DataTable(source=tablesource, columns=columns, width=600, height=280)\n",
    "\n",
    "    def update_table():\n",
    "        if env:\n",
    "            for i, observation in enumerate(simulation.telescope.observations):\n",
    "                dictionary = {\"running\": [(i, observation.status)]}\n",
    "                tablesource.patch(dictionary)\n",
    "\n",
    "    doc.add_periodic_callback(update_plot, 500)\n",
    "    doc.add_periodic_callback(update_table, 500)\n",
    "    button.on_click(update_start)\n",
    "\n",
    "    # fig.xgrid.grid_line_color = None\n",
    "    # fig.x_range.start = 0\n",
    "    # fig.x_range.end = 350\n",
    "    # fig.legend.orientation = \"horizontal\"\n",
    "    # fig.legend.location = \"top_center\"\n",
    "\n",
    "    doc.title = \"TopSim Dashboard\"\n",
    "    doc.add_root(layout([button], [p, data_table]))\n",
    "    return doc"
   ]
  },
  {
   "cell_type": "code",
   "execution_count": 13,
   "metadata": {},
   "outputs": [
    {
     "name": "stderr",
     "output_type": "stream",
     "text": [
      "INFO:bokeh.server.server:Starting Bokeh server version 2.0.2 (running on Tornado 6.0.3)\n",
      "INFO:bokeh.server.tornado:User authentication hooks NOT provided (default user enabled)\n"
     ]
    }
   ],
   "source": [
    "logger.debug('Opening Bokeh application on http://localhost:8898/')\n",
    "apps = {'/': Application(FunctionHandler(make_document))}\n",
    "server = Server(apps, port=5070)"
   ]
  },
  {
   "cell_type": "code",
   "execution_count": 21,
   "metadata": {},
   "outputs": [],
   "source": [
    "server.start()"
   ]
  },
  {
   "cell_type": "code",
   "execution_count": 22,
   "metadata": {},
   "outputs": [
    {
     "name": "stderr",
     "output_type": "stream",
     "text": [
      "INFO:core.telescope:Observation emu scheduled for 0\n",
      "INFO:core.telescope:Telescope is now using 36 arrays\n",
      "INFO:core.buffer:Adding observation emu data to buffer at time 11\n",
      "INFO:core.telescope:Telescope is now using 0 arrays\n",
      "INFO:core.telescope:Observation dingo scheduled for 11\n",
      "INFO:core.telescope:Telescope is now using 18 arrays\n",
      "INFO:core.scheduler:New observation emu scheduled for processing @ Time: 12\n",
      "INFO:core.scheduler:emu finished processing @ 17\n",
      "INFO:core.telescope:Observation vat scheduled for 20\n",
      "INFO:core.telescope:Telescope is now using 36 arrays\n",
      "INFO:core.buffer:Adding observation dingo data to buffer at time 26\n",
      "INFO:core.telescope:Telescope is now using 18 arrays\n",
      "INFO:core.scheduler:New observation dingo scheduled for processing @ Time: 27\n",
      "INFO:core.scheduler:dingo finished processing @ 32\n",
      "INFO:core.buffer:Adding observation vat data to buffer at time 51\n",
      "INFO:core.telescope:Telescope is now using 0 arrays\n",
      "INFO:core.scheduler:New observation vat scheduled for processing @ Time: 52\n",
      "INFO:core.scheduler:vat finished processing @ 57\n",
      "INFO:core.simulation:Simulation Finished @ 57\n"
     ]
    }
   ],
   "source": [
    "simulation.start(runtime=-1)"
   ]
  },
  {
   "cell_type": "code",
   "execution_count": null,
   "metadata": {},
   "outputs": [],
   "source": []
  },
  {
   "cell_type": "code",
   "execution_count": null,
   "metadata": {},
   "outputs": [],
   "source": []
  }
 ],
 "metadata": {
  "kernelspec": {
   "display_name": "PyCharm (topsim)",
   "language": "python",
   "name": "pycharm-6fc791c6"
  },
  "language_info": {
   "codemirror_mode": {
    "name": "ipython",
    "version": 3
   },
   "file_extension": ".py",
   "mimetype": "text/x-python",
   "name": "python",
   "nbconvert_exporter": "python",
   "pygments_lexer": "ipython3",
   "version": "3.7.3"
  }
 },
 "nbformat": 4,
 "nbformat_minor": 2
}
