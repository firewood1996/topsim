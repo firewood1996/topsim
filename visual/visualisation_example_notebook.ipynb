{
 "cells": [
  {
   "cell_type": "code",
   "execution_count": 1,
   "metadata": {
    "pycharm": {
     "is_executing": false
    }
   },
   "outputs": [],
   "source": [
    "import sys\n",
    "import os\n",
    "from algorithms.scheduling import FifoAlgorithm\n",
    "from core.simulation import Simulation\n",
    "import config.data as test_data "
   ]
  },
  {
   "cell_type": "code",
   "execution_count": 2,
   "metadata": {},
   "outputs": [
    {
     "data": {
      "text/plain": [
       "'/home/rwb/github/topsim'"
      ]
     },
     "execution_count": 2,
     "metadata": {},
     "output_type": "execute_result"
    }
   ],
   "source": [
    "os.chdir('..')\n",
    "# Confirm we are in the topsim root directory - config.data has path maps relative to this \n",
    "os.getcwd()"
   ]
  },
  {
   "cell_type": "code",
   "execution_count": 3,
   "metadata": {
    "pycharm": {
     "is_executing": false
    }
   },
   "outputs": [
    {
     "name": "stderr",
     "output_type": "stream",
     "text": [
      "INFO:bokeh.server.server:Starting Bokeh server version 1.3.4 (running on Tornado 6.0.3)\n"
     ]
    }
   ],
   "source": [
    "import simpy\n",
    "import time\n",
    "import os\n",
    "workflow_file = None\n",
    "event_file = 'sim.trace'\n",
    "planning_algorithm = 'heft'\n",
    "env = simpy.Environment()\n",
    "tmax = 36  # for starters, we will define telescope configuration as simply number of arrays that exist\n",
    "salgorithm = FifoAlgorithm()\n",
    "vis = True\n",
    "\n",
    "simulation = Simulation(env,\n",
    "                       test_data.telescope_config,\n",
    "                        tmax,\n",
    "                        test_data.machine_config,\n",
    "                        salgorithm,\n",
    "                        'heft',\n",
    "                        event_file,\n",
    "                        vis)\n",
    "\n",
    "events = []\n",
    "not_started = True\n",
    "start = False\n"
   ]
  },
  {
   "cell_type": "code",
   "execution_count": 4,
   "metadata": {
    "pycharm": {
     "is_executing": false
    }
   },
   "outputs": [],
   "source": [
    "import time\n",
    "import simpy\n",
    "\n",
    "# Setup bokeh imports\n",
    "from bokeh.application import Application\n",
    "from bokeh.application.handlers.function import FunctionHandler\n",
    "from bokeh.models import LinearColorMapper\n",
    "from bokeh.models.widgets import Button, DataTable, TableColumn\n",
    "from bokeh.server.server import Server\n",
    "from bokeh.layouts import layout\n",
    "from bokeh.models import ColumnDataSource\n",
    "from bokeh.plotting import figure\n",
    "\n",
    "import logging\n",
    "logger = logging.getLogger(__name__)\n"
   ]
  },
  {
   "cell_type": "code",
   "execution_count": 5,
   "metadata": {
    "pycharm": {
     "is_executing": false
    }
   },
   "outputs": [],
   "source": [
    "def make_document(doc):\n",
    "    # source = ColumnDataSource({'x': [], 'y': [], 'color': []})\n",
    "    # x = []\n",
    "    # y = []\n",
    "\n",
    "    colors = [\"#75968f\", \"#a5bab7\", \"#c9d9d3\", \"#e2e2e2\", \"#dfccce\", \"#ddb7b1\", \"#cc7878\", \"#933b41\", \"#550b1d\"]\n",
    "    mapper = LinearColorMapper(palette=colors, low=0, high=1)\n",
    "    button = Button(label=\"Start\", button_type=\"success\")\n",
    "    # create three plots\n",
    "\n",
    "    plot = {\n",
    "        'time': [env.now],\n",
    "        'running': [len(simulation.cluster.running_tasks)],\n",
    "        'finished': [len(simulation.cluster.finished_tasks)]\n",
    "    }\n",
    "\n",
    "    plotdata = ColumnDataSource(plot)\n",
    "\n",
    "    def update_start():\n",
    "        if not start:\n",
    "            start = True\n",
    "\n",
    "    p = figure(plot_width=400, plot_height=400)\n",
    "    p.line(x='time', y='running', legend_label='Running tasks', alpha=0.2, line_width=3, color='navy', source=plotdata)\n",
    "    p.line(x='time', y='finished', legend_label='Finished tasks', alpha=0.8, line_width=2, color='orange', source=plotdata)\n",
    "    p.xaxis.axis_label = 'Time'\n",
    "    p.yaxis.axis_label = 'Tasks'\n",
    "\n",
    "    def update_plot():\n",
    "        if env:\n",
    "            updata = {\n",
    "                'time': [env.now],\n",
    "                'running': [len(simulation.cluster.running_tasks)],\n",
    "                'finished': [len(simulation.cluster.finished_tasks)]\n",
    "            }\n",
    "            plotdata.stream(updata)\n",
    "\n",
    "    \"\"\"\n",
    "    SETUP TABLE \n",
    "    \"\"\"\n",
    "    columns = [\n",
    "        TableColumn(field=\"name\", title=\"Name\"),\n",
    "        TableColumn(field=\"start\", title=\"Start Time\"),\n",
    "        TableColumn(field=\"demand\", title=\"No. Antennas\"),\n",
    "        TableColumn(field=\"duration\", title=\"Observation Length\"),\n",
    "        TableColumn(field=\"running\", title=\"Running Status\")\n",
    "    ]\n",
    "\n",
    "    sourcedata = dict(name=[], start=[], duration=[], demand=[], running=[])\n",
    "    tablesource = ColumnDataSource(data=sourcedata)\n",
    "    for observation in simulation.telescope.observations:\n",
    "        sourcedata['name'].append(observation.name)\n",
    "        sourcedata['start'].append(observation.start)\n",
    "        sourcedata['duration'].append(observation.duration)\n",
    "        sourcedata['demand'].append(observation.demand)\n",
    "        sourcedata['running'].append(observation.status)\n",
    "    data_table = DataTable(source=tablesource, columns=columns, width=600, height=280)\n",
    "\n",
    "    def update_table():\n",
    "        if env:\n",
    "            for i, observation in enumerate(simulation.telescope.observations):\n",
    "                dictionary = {\"running\": [(i, observation.status)]}\n",
    "                tablesource.patch(dictionary)\n",
    "\n",
    "    doc.add_periodic_callback(update_plot, 500)\n",
    "    doc.add_periodic_callback(update_table, 500)\n",
    "    button.on_click(update_start)\n",
    "\n",
    "    # fig.xgrid.grid_line_color = None\n",
    "    # fig.x_range.start = 0\n",
    "    # fig.x_range.end = 350\n",
    "    # fig.legend.orientation = \"horizontal\"\n",
    "    # fig.legend.location = \"top_center\"\n",
    "\n",
    "    doc.title = \"TopSim Dashboard\"\n",
    "    doc.add_root(layout([button], [p, data_table]))\n",
    "    return doc"
   ]
  },
  {
   "cell_type": "code",
   "execution_count": 6,
   "metadata": {
    "pycharm": {
     "is_executing": false
    }
   },
   "outputs": [
    {
     "name": "stderr",
     "output_type": "stream",
     "text": [
      "INFO:bokeh.server.server:Starting Bokeh server version 1.3.4 (running on Tornado 6.0.3)\n",
      "ERROR:tornado.application:Uncaught exception GET / (127.0.0.1)\n",
      "HTTPServerRequest(protocol='http', host='localhost:5070', method='GET', uri='/', version='HTTP/1.1', remote_ip='127.0.0.1')\n",
      "Traceback (most recent call last):\n",
      "  File \"/home/rwb/github/topsim/venv/lib/python3.7/site-packages/tornado/web.py\", line 1699, in _execute\n",
      "    result = await result\n",
      "  File \"/home/rwb/github/topsim/venv/lib/python3.7/site-packages/tornado/gen.py\", line 742, in run\n",
      "    yielded = self.gen.throw(*exc_info)  # type: ignore\n",
      "  File \"/home/rwb/github/topsim/venv/lib/python3.7/site-packages/bokeh/server/views/doc_handler.py\", line 55, in get\n",
      "    session = yield self.get_session()\n",
      "  File \"/home/rwb/github/topsim/venv/lib/python3.7/site-packages/tornado/gen.py\", line 735, in run\n",
      "    value = future.result()\n",
      "  File \"/home/rwb/github/topsim/venv/lib/python3.7/site-packages/tornado/gen.py\", line 742, in run\n",
      "    yielded = self.gen.throw(*exc_info)  # type: ignore\n",
      "  File \"/home/rwb/github/topsim/venv/lib/python3.7/site-packages/bokeh/server/views/session_handler.py\", line 77, in get_session\n",
      "    session = yield self.application_context.create_session_if_needed(session_id, self.request)\n",
      "  File \"/home/rwb/github/topsim/venv/lib/python3.7/site-packages/tornado/gen.py\", line 735, in run\n",
      "    value = future.result()\n",
      "  File \"/home/rwb/github/topsim/venv/lib/python3.7/site-packages/tornado/gen.py\", line 748, in run\n",
      "    yielded = self.gen.send(value)\n",
      "  File \"/home/rwb/github/topsim/venv/lib/python3.7/site-packages/bokeh/server/contexts.py\", line 215, in create_session_if_needed\n",
      "    self._application.initialize_document(doc)\n",
      "  File \"/home/rwb/github/topsim/venv/lib/python3.7/site-packages/bokeh/application/application.py\", line 178, in initialize_document\n",
      "    h.modify_document(doc)\n",
      "  File \"/home/rwb/github/topsim/venv/lib/python3.7/site-packages/bokeh/application/handlers/function.py\", line 133, in modify_document\n",
      "    self._func(doc)\n",
      "  File \"<ipython-input-5-2ef53746b6e2>\", line 24, in make_document\n",
      "    p.line(x='time', y='running', legend_label='Running tasks', alpha=0.2, line_width=3, color='navy', source=plotdata)\n",
      "  File \"fakesource\", line 5, in line\n",
      "  File \"/home/rwb/github/topsim/venv/lib/python3.7/site-packages/bokeh/plotting/helpers.py\", line 857, in func\n",
      "    glyph = _make_glyph(glyphclass, kwargs, glyph_ca)\n",
      "  File \"/home/rwb/github/topsim/venv/lib/python3.7/site-packages/bokeh/plotting/helpers.py\", line 398, in _make_glyph\n",
      "    return glyphclass(**kws)\n",
      "  File \"/home/rwb/github/topsim/venv/lib/python3.7/site-packages/bokeh/model.py\", line 307, in __init__\n",
      "    super(Model, self).__init__(**kwargs)\n",
      "  File \"/home/rwb/github/topsim/venv/lib/python3.7/site-packages/bokeh/core/has_props.py\", line 253, in __init__\n",
      "    setattr(self, name, value)\n",
      "  File \"/home/rwb/github/topsim/venv/lib/python3.7/site-packages/bokeh/core/has_props.py\", line 288, in __setattr__\n",
      "    (name, self.__class__.__name__, text, nice_join(matches)))\n",
      "AttributeError: unexpected attribute 'legend_label' to Line, possible attributes are js_event_callbacks, js_property_callbacks, line_alpha, line_cap, line_color, line_dash, line_dash_offset, line_join, line_width, name, subscribed_events, tags, x or y\n",
      "ERROR:tornado.access:500 GET / (127.0.0.1) 8.38ms\n",
      "WARNING:tornado.access:404 GET /favicon.ico (127.0.0.1) 0.41ms\n"
     ]
    }
   ],
   "source": [
    "logger.debug('Opening Bokeh application on http://localhost:5070/')\n",
    "apps = {'/': Application(FunctionHandler(make_document))}\n",
    "server = Server(apps, port=5070)"
   ]
  },
  {
   "cell_type": "code",
   "execution_count": null,
   "metadata": {
    "pycharm": {
     "is_executing": false
    }
   },
   "outputs": [],
   "source": [
    "server.start()"
   ]
  },
  {
   "cell_type": "code",
   "execution_count": null,
   "metadata": {
    "pycharm": {
     "is_executing": false
    }
   },
   "outputs": [],
   "source": [
    "simulation.start(runtime=-1)"
   ]
  },
  {
   "cell_type": "code",
   "execution_count": null,
   "metadata": {
    "pycharm": {
     "is_executing": false
    }
   },
   "outputs": [],
   "source": []
  },
  {
   "cell_type": "code",
   "execution_count": null,
   "metadata": {
    "pycharm": {
     "is_executing": false
    }
   },
   "outputs": [],
   "source": []
  }
 ],
 "metadata": {
  "kernelspec": {
   "display_name": "Python 3",
   "language": "python",
   "name": "python3"
  },
  "language_info": {
   "codemirror_mode": {
    "name": "ipython",
    "version": 3
   },
   "file_extension": ".py",
   "mimetype": "text/x-python",
   "name": "python",
   "nbconvert_exporter": "python",
   "pygments_lexer": "ipython3",
   "version": "3.7.3"
  },
  "pycharm": {
   "stem_cell": {
    "cell_type": "raw",
    "metadata": {
     "collapsed": false
    },
    "source": []
   }
  }
 },
 "nbformat": 4,
 "nbformat_minor": 2
}
